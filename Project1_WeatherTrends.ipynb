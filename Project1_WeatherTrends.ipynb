{
 "cells": [
  {
   "cell_type": "markdown",
   "metadata": {},
   "source": [
    "# Data Analyst Project 1 Explore Weather Trends"
   ]
  },
  {
   "cell_type": "markdown",
   "metadata": {},
   "source": [
    "## 1.Steps Summary\n",
    "- Extract Singapore city level and Global data using SQL and download data into CSV\n",
    "- Combine two CSV files into one excel file for easy processing\n",
    "- Create columns to calculate 7-year moving average of Singapore temperature and global temperature.\n",
    "- Create line chart\n",
    "- Make observations\n"
   ]
  },
  {
   "cell_type": "markdown",
   "metadata": {},
   "source": [
    "## 2.Steps in detail"
   ]
  },
  {
   "cell_type": "markdown",
   "metadata": {},
   "source": [
    "**2.1 Extract Data using SQL and download resutls in CSV**"
   ]
  },
  {
   "cell_type": "code",
   "execution_count": null,
   "metadata": {},
   "outputs": [],
   "source": [
    "SELECT A.year, \n",
    "       A.avg_temp AS global_avg_temp, \n",
    "       b.city, \n",
    "       b.country, \n",
    "       b.avg_temp AS sgp_avg_temp \n",
    "FROM   global_data A \n",
    "       LEFT OUTER JOIN city_data b \n",
    "                    ON a.year = b.year \n",
    "WHERE  b.country = 'Singapore'; "
   ]
  },
  {
   "cell_type": "markdown",
   "metadata": {},
   "source": [
    "**2.2 Create columns for 7-Year Moving Average**"
   ]
  },
  {
   "cell_type": "code",
   "execution_count": null,
   "metadata": {},
   "outputs": [],
   "source": [
    "=AVERAGE(B2:B8)"
   ]
  },
  {
   "cell_type": "markdown",
   "metadata": {},
   "source": [
    "**2.3 Create Line Chart in Excel**"
   ]
  },
  {
   "cell_type": "markdown",
   "metadata": {},
   "source": [
    "<img src=https://raw.githubusercontent.com/VenessaM/DataAnalysisPython/master/Pics/Trends.jpg">"
   ]
  },
  {
   "cell_type": "markdown",
   "metadata": {},
   "source": [
    "## 3.Observations\n",
    "- As a tropical city, Singapore is **much hotter** on average than the global average,nearly 3 times that of global. The difference has been consistent over years.\n",
    "- Temperatures of both Singapore and Global have been increasing slowly over years. \n",
    "- Overall, temperature of both Singapore and Global are increasing. The word become hotter. \n",
    "- The trend line of 7-Year Gloabl MA is below actual line, suggesting that temperature increased slightly faster in last few years."
   ]
  }
 ],
 "metadata": {
  "kernelspec": {
   "display_name": "Python 3",
   "language": "python",
   "name": "python3"
  },
  "language_info": {
   "codemirror_mode": {
    "name": "ipython",
    "version": 3
   },
   "file_extension": ".py",
   "mimetype": "text/x-python",
   "name": "python",
   "nbconvert_exporter": "python",
   "pygments_lexer": "ipython3",
   "version": "3.7.3"
  }
 },
 "nbformat": 4,
 "nbformat_minor": 2
}
