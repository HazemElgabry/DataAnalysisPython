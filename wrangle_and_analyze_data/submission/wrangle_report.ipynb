{
 "cells": [
  {
   "cell_type": "markdown",
   "metadata": {},
   "source": [
    "## Wrangle Report\n",
    "\n",
    "The data wrangling project was very interesting and I learned a lot from the process.、\n",
    "\n",
    "Three different sources are referred for the data analysis. \n",
    "\n",
    "* Enhanced Twitter Archive\n",
    "\n",
    "* Image Predictions File\n",
    "\n",
    "* Additional Data via the Twitter API\n",
    "\n",
    "For the twitter data, using the tweet IDs, I first queried Twitter API for each tweet's JSON data using the Python’s Tweepy library I stored each tweet’s entire set of JSON data. The data is further used to get the retweet number and like counts. \n",
    "\n",
    "After analysing the data, I found the following quality issues and tidiness issues\n",
    "\n",
    "#### Quality issues\n",
    "\n",
    "* There are a lot of null values in columns like in_reply_to_status_id and in_reply_to_user_id.\n",
    "* One suggestion is to change the timestamp to datetime stamp.\n",
    "* Tweet_id should be string rather than int.\n",
    "* Rating_numerator and rating_deniminator better to use double\n",
    "* Need to remove the retweeted twitter\n",
    "* Convert `id` column from a number to a string\n",
    "* Remove not relevant columns such as `in_reply_to_status_id` and `in_reply_to_user_id`\n",
    "* Need to clean the name column\n",
    "* Transform timestamp to `yyyy-MM-dd HH:mm:ss`\n",
    "* Add another columns which is the rating ratio rather than two columns only\n",
    "* Keeping rows with p1_dog, p2_dog, or p3_dog = True. Only keeping entries that we can predict as dog and its species.\n",
    "* Consulidating image prediction into one column\n",
    "\n",
    "#### Tidiness issues\n",
    "\n",
    "* Concatenate datasets to make one clean dataset using merge\n",
    "* Tidy the 4 stages of dog column to create variable/value \n",
    "\n",
    "And I have addressed each of the issue one by one utilising pandas."
   ]
  },
  {
   "cell_type": "code",
   "execution_count": null,
   "metadata": {},
   "outputs": [],
   "source": []
  }
 ],
 "metadata": {
  "kernelspec": {
   "display_name": "Python 3",
   "language": "python",
   "name": "python3"
  },
  "language_info": {
   "codemirror_mode": {
    "name": "ipython",
    "version": 3
   },
   "file_extension": ".py",
   "mimetype": "text/x-python",
   "name": "python",
   "nbconvert_exporter": "python",
   "pygments_lexer": "ipython3",
   "version": "3.6.3"
  }
 },
 "nbformat": 4,
 "nbformat_minor": 2
}
